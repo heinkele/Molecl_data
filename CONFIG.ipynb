{
 "cells": [
  {
   "cell_type": "markdown",
   "id": "06293670",
   "metadata": {},
   "source": [
    "# ABF file : Plasmid data experiment"
   ]
  },
  {
   "cell_type": "markdown",
   "id": "6a3b21e4",
   "metadata": {},
   "source": [
    "## Screening_sample"
   ]
  },
  {
   "cell_type": "code",
   "execution_count": null,
   "id": "32d678dc",
   "metadata": {
    "vscode": {
     "languageId": "plaintext"
    }
   },
   "outputs": [],
   "source": [
    "CONFIG = {\n",
    "    # ---- Paths / IO ----\n",
    "    \"ROOT_PATH\": \"/Users/hugo/New data/PacBio\",   # where sample1/, sample2/, ...\n",
    "    \"FILE_GLOB\": [\"*.dat\", \"*.abf\"],              # support both formats\n",
    "    \"SKIP_ALREADY_PROCESSED\": True,               # uses processing_status.json\n",
    "\n",
    "    # ---- Header parsing (.dat only) ----\n",
    "    \"HEADER_SAMPLERATE_DIV\": 1,\n",
    "\n",
    "    # ---- Baseline estimation ----\n",
    "    # Alexander uses 1 kHz for normalization (before segmentation)\n",
    "    \"BASELINE_LP_HZ\": 1e3,\n",
    "    \"BASELINE_ORDER\": 4,\n",
    "\n",
    "    # ---- Segmentation ----\n",
    "    # Same normalized gradient threshold and min segment length as Alexander\n",
    "    \"SEG_GRAD_THRESH\": 0.3,\n",
    "    \"MIN_SEG_LEN\": 50000,\n",
    "    \"SEG_VAR_MAX\": 5e-3,         # reject segments with higher normalized variance\n",
    "    \"SEGMENT_LP_HZ\": None,       # no extra smoothing before segmentation\n",
    "\n",
    "    # ---- Feature extraction ----\n",
    "    # Alexander uses ratio mode: 1 - I/I_norm\n",
    "    \"FEATURE_MODE\": \"ratio\",\n",
    "    \"EPS_DENOM\": 1e-12,\n",
    "\n",
    "    # Low-pass filter on the feature signal\n",
    "    \"FEATURE_LP_ENABLE\": True,\n",
    "    \"FEATURE_LP_MODE\": \"fixed_hz\",   # use fixed cutoff (not fraction of fs)\n",
    "    \"FEATURE_LP_FIXED_HZ\": 5e5,      # 500 kHz cutoff for feature LP\n",
    "    \"FEATURE_LP_FRAC\": 0.20,         # unused unless FEATURE_LP_MODE == \"frac_fs\"\n",
    "    \"FEATURE_LP_ORDER\": 6,\n",
    "\n",
    "    # ---- Peak detection ----\n",
    "    \"WINDOW_SIZE\": 2500,          # samples\n",
    "    \"PEAK_PROMINENCE\": 0.2,       # stronger peaks only\n",
    "    \"PEAK_MIN_DISTANCE\": 1000,    # samples\n",
    "    \"SNR_REPORT\": True,           # compute and include SNR in output\n",
    "\n",
    "    # ---- Plotting / debug ----\n",
    "    \"BG_PLOT_DOWNSAMPLE\": 1000,   # for background.png\n",
    "    \"SEG_PLOT_DOWNSAMPLE\": 100,   # for kept/rejected segment plots\n",
    "    \"SAVE_SEGMENT_DEBUG_WHEN_REJECTED\": True,\n",
    "    \"SAVE_SEGMENT_DEBUG_WHEN_ACCEPTED\": True,\n",
    "\n",
    "    # ---- Safety / numeric ----\n",
    "    \"MIN_BASELINE_MEDIAN\": 1e-18,\n",
    "    \"MIN_WINDOW_SAMPLES\": 1000,\n",
    "    \"ENFORCE_DISTANCE_GTE_WINDOW\": True,\n",
    "}"
   ]
  },
  {
   "cell_type": "markdown",
   "id": "018c9c9d",
   "metadata": {},
   "source": [
    "## Process_combined_peaks"
   ]
  },
  {
   "cell_type": "code",
   "execution_count": null,
   "id": "1504debd",
   "metadata": {
    "vscode": {
     "languageId": "plaintext"
    }
   },
   "outputs": [],
   "source": [
    "CONFIG = {\n",
    "    # ---- IO / Structure ----\n",
    "    \"ROOT_PATH\": \"/Users/hugo/New data/PacBio\",\n",
    "    \"INPUT_JSON_NAME\": \"combined_peaks_data.json\",\n",
    "    \"RESULTS_SUBDIR\": \"peak_fits\",\n",
    "    \"HIST_SUBDIR\": \"histograms\",\n",
    "    \"SKIP_IF_FIT_EXISTS\": True,         # skip a folder if fit_results.json already exists\n",
    "\n",
    "    # ---- Plotting ----\n",
    "    \"SAVE_PLOTS\": True,\n",
    "    \"FIGSIZE\": (10, 6),\n",
    "    \"FIG_DPI\": 150,\n",
    "    \"PLOT_RAW\": True,\n",
    "    \"PLOT_FILTERED\": True,\n",
    "    \"PLOT_FITTED\": True,\n",
    "    \"XLABEL_TIME\": \"Time (µs)\",\n",
    "\n",
    "    # ---- Histograms / Stats ----\n",
    "    \"FWHM_HIST_BINS\": 50,\n",
    "    \"AREA_HIST_BINS\": 300,\n",
    "    \"AREA_XLIM\": (0, 20.5),             # set to None for auto limits\n",
    "    \"SAVE_STATS_TXT\": True,\n",
    "    \"SAVE_CORR\": True,\n",
    "\n",
    "    # ---- Optional post-fit filtering (for stats/plots only) ----\n",
    "    \"MIN_FWHM\": None,                   # e.g., 2.0 (µs)\n",
    "    \"MAX_FWHM\": None,                   # e.g., 30.0\n",
    "    \"MIN_AREA\": None,                   # e.g., 0.02\n",
    "    \"MAX_AREA\": None,\n",
    "    \"MIN_MAX_DISPLACEMENT\": None,       # e.g., 0.01\n",
    "    \"MAX_MAX_DISPLACEMENT\": None,\n",
    "\n",
    "    # ---- Refined fit model & robustness ----\n",
    "    \"FIT_MODEL\": \"gaussian\",            # \"gaussian\" | \"supergauss\" | \"skewgauss\"\n",
    "    \"SUPER_GAUSS_P\": 2,               # only used if FIT_MODEL == \"supergauss\" (2 == Gaussian)\n",
    "    \"ROBUST_LOSS\": \"linear\",           # \"linear\" | \"soft_l1\" | \"huber\" | \"cauchy\"\n",
    "    \"ROBUST_F_SCALE\": 1.0,\n",
    "\n",
    "    # ---- Parameter bounds (units: µs) ----\n",
    "    \"AMP_MIN\": 0.05,                \n",
    "    \"AMP_MAX\": 0.9,                 \n",
    "    \"SIGMA_MIN\": 0.0,               \n",
    "    \"SIGMA_MAX\": 10.0,              \n",
    "    \"MU_PAD_US\": 20.0,                \n",
    "\n",
    "    # ---- Optional window refinement around the max before fitting ----\n",
    "    \"REFIT_USE_CENTERED_WINDOW\": True,\n",
    "    \"REFIT_HALF_WINDOW_US\": 50,       \n",
    "}"
   ]
  },
  {
   "cell_type": "markdown",
   "id": "1a26533f",
   "metadata": {},
   "source": [
    "# DAT files "
   ]
  },
  {
   "cell_type": "markdown",
   "id": "6f40dc4a",
   "metadata": {},
   "source": [
    "## Screening_sample"
   ]
  },
  {
   "cell_type": "code",
   "execution_count": null,
   "id": "a705233f",
   "metadata": {
    "vscode": {
     "languageId": "plaintext"
    }
   },
   "outputs": [],
   "source": [
    "CONFIG = {\n",
    "    # ---- Paths / IO ----\n",
    "    \"ROOT_PATH\": \"/Users/hugo/New data/PacBio\",   # where sample1/, sample2/, ...\n",
    "    # NEW: list of globs instead of single string\n",
    "    \"FILE_GLOB\": [\"*.dat\", \"*.abf\"],\n",
    "    \"SKIP_ALREADY_PROCESSED\": True,               # uses processing_status.json\n",
    "\n",
    "    # ---- Header parsing (sample rate units) ----\n",
    "    # (used only for .dat Axopatch loader)\n",
    "    \"HEADER_SAMPLERATE_DIV\": 1,\n",
    "\n",
    "    # ---- Baseline estimation (background) ----\n",
    "    \"BASELINE_LP_HZ\": 3e4,\n",
    "    \"BASELINE_ORDER\": 4,\n",
    "\n",
    "    # Optional extra smoothing JUST for segmentation (None = disabled)\n",
    "    \"SEGMENT_LP_HZ\": None,     # e.g. 1000.0\n",
    "\n",
    "    # ---- Segmentation (detecting baseline jumps) ----\n",
    "    \"SEG_GRAD_THRESH\": 0.30,\n",
    "    \"MIN_SEG_LEN\": 30000,\n",
    "    \"SEG_VAR_MAX\": 4e-3,       # std/median threshold to KEEP a segment\n",
    "\n",
    "    # ---- Feature signal (for peak detection) ----\n",
    "    # \"ratio\": 1 - I/I_norm (prefers stable nonzero baseline)\n",
    "    # \"diff\" : I - I_norm   (if baseline magnitude drifts a lot)\n",
    "    \"FEATURE_MODE\": \"ratio\",\n",
    "    \"EPS_DENOM\": 1e-12,\n",
    "\n",
    "    # Optional low-pass on the feature\n",
    "    \"FEATURE_LP_ENABLE\": True,\n",
    "    \"FEATURE_LP_MODE\": \"frac_fs\",      # \"frac_fs\" or \"fixed_hz\"\n",
    "    \"FEATURE_LP_FRAC\": 0.20,\n",
    "    \"FEATURE_LP_FIXED_HZ\": 5000.0,\n",
    "    \"FEATURE_LP_ORDER\": 6,\n",
    "\n",
    "    # ---- Peak picking / window extraction ----\n",
    "    \"WINDOW_SIZE\": 2500,        # half-window in samples\n",
    "    \"PEAK_PROMINENCE\": 0.1,\n",
    "    \"PEAK_MIN_DISTANCE\": 500,   # samples (min dist between peaks)\n",
    "    \"SNR_REPORT\": True,\n",
    "\n",
    "    # ---- Plotting / debug ----\n",
    "    \"BG_PLOT_DOWNSAMPLE\": 1000,\n",
    "    \"SEG_PLOT_DOWNSAMPLE\": 100,\n",
    "    \"SAVE_SEGMENT_DEBUG_WHEN_REJECTED\": True,\n",
    "    \"SAVE_SEGMENT_DEBUG_WHEN_ACCEPTED\": True,\n",
    "\n",
    "    # ---- Safety / numeric ----\n",
    "    \"MIN_BASELINE_MEDIAN\": 1e-18,\n",
    "    \"MIN_WINDOW_SAMPLES\": 1000,\n",
    "    \"ENFORCE_DISTANCE_GTE_WINDOW\": True,\n",
    "}\n"
   ]
  },
  {
   "cell_type": "markdown",
   "id": "d4f1fb3d",
   "metadata": {},
   "source": [
    "## Process_comined_peaks"
   ]
  },
  {
   "cell_type": "code",
   "execution_count": null,
   "id": "31795638",
   "metadata": {
    "vscode": {
     "languageId": "plaintext"
    }
   },
   "outputs": [],
   "source": [
    "CONFIG = {\n",
    "    # ---- IO / Structure ----\n",
    "    \"ROOT_PATH\": \"/Users/hugo/New data/PacBio\",\n",
    "    \"INPUT_JSON_NAME\": \"combined_peaks_data.json\",\n",
    "    \"RESULTS_SUBDIR\": \"peak_fits\",\n",
    "    \"HIST_SUBDIR\": \"histograms\",\n",
    "    \"SKIP_IF_FIT_EXISTS\": True,         # skip a folder if fit_results.json already exists\n",
    "\n",
    "    # ---- Plotting ----\n",
    "    \"SAVE_PLOTS\": True,\n",
    "    \"FIGSIZE\": (10, 6),\n",
    "    \"FIG_DPI\": 150,\n",
    "    \"PLOT_RAW\": True,\n",
    "    \"PLOT_FILTERED\": True,\n",
    "    \"PLOT_FITTED\": True,\n",
    "    \"XLABEL_TIME\": \"Time (µs)\",\n",
    "\n",
    "    # ---- Histograms / Stats ----\n",
    "    \"FWHM_HIST_BINS\": 50,\n",
    "    \"AREA_HIST_BINS\": 300,\n",
    "    \"AREA_XLIM\": (0, 20.5),             # set to None for auto limits\n",
    "    \"SAVE_STATS_TXT\": True,\n",
    "    \"SAVE_CORR\": True,\n",
    "\n",
    "    # ---- Optional post-fit filtering (for stats/plots only) ----\n",
    "    \"MIN_FWHM\": None,                   # e.g., 2.0 (µs)\n",
    "    \"MAX_FWHM\": None,                   # e.g., 30.0\n",
    "    \"MIN_AREA\": None,                   # e.g., 0.02\n",
    "    \"MAX_AREA\": None,\n",
    "    \"MIN_MAX_DISPLACEMENT\": None,       # e.g., 0.01\n",
    "    \"MAX_MAX_DISPLACEMENT\": None,\n",
    "\n",
    "    # ---- Refined fit model & robustness ----\n",
    "    \"FIT_MODEL\": \"supergauss\",            # \"gaussian\" | \"supergauss\" | \"skewgauss\"\n",
    "    \"SUPER_GAUSS_P\": 6,               # only used if FIT_MODEL == \"supergauss\" (2 == Gaussian)\n",
    "    \"ROBUST_LOSS\": \"linear\",           # \"linear\" | \"soft_l1\" | \"huber\" | \"cauchy\"\n",
    "    \"ROBUST_F_SCALE\": 1.0,\n",
    "\n",
    "    # ---- Parameter bounds (units: µs) ----\n",
    "    \"AMP_MIN\": 1e-4,\n",
    "    \"AMP_MAX\": 50.0,\n",
    "    \"SIGMA_MIN\": 0.002,                 \n",
    "    \"SIGMA_MAX\": 0.3,\n",
    "    \"MU_PAD_US\": 0.02,                  # allow μ to move ± this beyond window for the fit\n",
    "\n",
    "    # ---- Optional window refinement around the max before fitting ----\n",
    "    \"REFIT_USE_CENTERED_WINDOW\": True,\n",
    "    \"REFIT_HALF_WINDOW_US\": 5,       \n",
    "}\n"
   ]
  }
 ],
 "metadata": {
  "language_info": {
   "name": "python"
  }
 },
 "nbformat": 4,
 "nbformat_minor": 5
}
